{
 "cells": [
  {
   "cell_type": "markdown",
   "id": "48baafaf-c00e-4c6b-8015-a2fb9c1e9f52",
   "metadata": {
    "tags": []
   },
   "source": [
    "# SIT744 Assignment 2: Deep Learning Project "
   ]
  },
  {
   "cell_type": "markdown",
   "id": "67cee374-37e8-46dc-b3a6-c715dd8b9881",
   "metadata": {},
   "source": [
    "## Importing required libraries"
   ]
  },
  {
   "cell_type": "code",
   "execution_count": 1,
   "id": "819632b8-a3ad-4232-895a-31fa55205e4b",
   "metadata": {},
   "outputs": [
    {
     "name": "stdout",
     "output_type": "stream",
     "text": [
      "setup successful!\n"
     ]
    }
   ],
   "source": [
    "import numpy as np\n",
    "import pandas as pd \n",
    "import random\n",
    "import os\n",
    "import matplotlib.pyplot as plt\n",
    "import seaborn as sns\n",
    "import tensorflow.keras.applications.xception as xception\n",
    "import zipfile\n",
    "import sys\n",
    "import time\n",
    "import tensorflow.keras as keras\n",
    "import tensorflow as tf\n",
    "import re\n",
    "\n",
    "from PIL import Image\n",
    "from tensorflow.keras.layers import Input, Conv2D, Dense, Flatten, MaxPooling2D, Input, GlobalAveragePooling2D\n",
    "from tensorflow.keras.layers.experimental.preprocessing import Normalization\n",
    "from tensorflow.keras.models import Model, Sequential\n",
    "from tensorflow.keras.preprocessing import image\n",
    "from tensorflow.keras.utils import to_categorical\n",
    "from tensorflow.keras.layers import Lambda\n",
    "from tensorflow.keras.callbacks import EarlyStopping\n",
    "from sklearn.model_selection import train_test_split\n",
    "from sklearn.metrics import classification_report\n",
    "from datetime import datetime\n",
    "from packaging import version\n",
    "\n",
    "import os\n",
    "os.environ['KMP_DUPLICATE_LIB_OK']='TRUE'\n",
    "\n",
    "print('setup successful!')"
   ]
  },
  {
   "cell_type": "code",
   "execution_count": 2,
   "id": "a31bdcf5-ef83-4415-9836-aa779aa1edd6",
   "metadata": {},
   "outputs": [
    {
     "name": "stdout",
     "output_type": "stream",
     "text": [
      "Found GPU at: /device:GPU:0\n"
     ]
    }
   ],
   "source": [
    "# check whether I am using GPU processing power\n",
    "device_name = tf.test.gpu_device_name()\n",
    "if not device_name:\n",
    "  raise SystemError('GPU device not found')\n",
    "print('Found GPU at: {}'.format(device_name))"
   ]
  },
  {
   "cell_type": "code",
   "execution_count": 3,
   "id": "2dc1fab3-79f0-49ff-a3cb-b9580757bfe9",
   "metadata": {},
   "outputs": [
    {
     "name": "stdout",
     "output_type": "stream",
     "text": [
      "TensorFlow version:  2.8.0\n"
     ]
    }
   ],
   "source": [
    "# Checking for Tensorflow version\n",
    "print(\"TensorFlow version: \", tf.__version__)"
   ]
  },
  {
   "cell_type": "markdown",
   "id": "708d31f2-2acb-415c-84af-66cd62aa5f32",
   "metadata": {
    "tags": []
   },
   "source": [
    "## **Task 1 (P Task) Smart Recycling using Deep Learning**\n",
    "\n",
    "### Task 1.1 Define a problem (EDITT)\n",
    "\n",
    "__Define an image classification problem that may help people better recycle, particularly by reducing contamination.__\n",
    "\n",
    "While recycling may seem as simple as throwing our waste to a bin and waiting for it to be send to a plant to perform it's magical processes, it may not be the case most of the times. As according to the United States'Environmental Protection Agency (EPA) seems to agree that the estimated 75% of American waste is recyclable but only 30% of it is actually recycled[1]. Moreover, according to CBC, contamination is the technical name for non-recyclable material or garbage in the recycling system, from leftover food in containers to non-recyclable plastic packaging to more obvious garbage such as clothing and propane tanks. For example, major cities such as Toronto have a contamination rate as high as 25%, which essentially turns recycling materials into unrecyclable waste[2]. \n",
    "\n",
    "One of the issues with recycling that may be solve with AI-driven model is the issue of improper sorting. Consumers may struggle to determine the composition of waste goods due to the multitude of waste-material types and varying rules, and so incorrectly designate an item as recyclable or non-recyclable. Mixing recyclable and non-recyclable goods lowers the value of to-be-recycled materials and makes it more difficult to sell them, as well as increasing the volume of recyclables that end up in landfills. As a result, one potential AI application is the use of picture classification to identify and assist consumers in recognising the material composition of their trash items and, as a result, their recyclability.\n",
    "\n",
    "__Describe the desired inputs and outputs, including the target classes.__\n",
    "\n",
    "The desire input for this problem would be a wide variety of image of recylable materials such as, metal, aluminium, cardboxes, etc. Then the target classes would be the correct label of that particular image that we are trying to train. \n",
    "\n",
    "### Task 1.2 Make a plan\n",
    "\n",
    "__What dataset can you use to develop a deep learning solution?__\n",
    "\n",
    "The data that I will be using to develop a deep learning solution were obtained from Kaggle called \"Garbage Classification\"[3]. It consist of 15150 images with 12 different classes of household garbage; paper, cardboard, biological, metal, plastic, green-glass, brown-glass, white-glass, clothes, shoes, batteries, and trash.\n",
    "\n",
    "__How many images do you need? How many for training? How many for testing?__\n",
    "\n",
    "I will be splitting the dataset into 80% train set, 10% cross validation set, and 10% test set. \n",
    "\n",
    "__How do you determine if your model is good enough?__\n",
    "\n",
    "In order to determine if our model is good enough, we can develop a baseline model where it is a simple and well understood procedure for making predictions on your predictive modelling problem. The performance of te model provides the bedrock for the lowest acceptable performance of a machine learning model on my specific dataset. The results of the baseline model provide the point from which the performance of all other models trained on my data can be evaluate. And of course, another typical way of evaluatig our model performance is the accuracy metric. However, we have to know that all modelling problem has prediction error, where it can come from a wide range of sources such as incompleteness of data sample, noise in the data and the stochastic nature of the modelling algorithm."
   ]
  },
  {
   "cell_type": "markdown",
   "id": "c56a8ec2-ec85-4b73-a38c-2963f94966c5",
   "metadata": {
    "tags": []
   },
   "source": [
    "### Task 1.3 Implement a solution\n",
    "\n",
    "__Collect relevant data, Develop a deep learning model, Report the model performance against the success criteria that you define.__\n",
    "\n",
    "#### Defining constant"
   ]
  },
  {
   "cell_type": "code",
   "execution_count": 3,
   "id": "d9d60835-5515-41b1-aca3-e8e852cf7190",
   "metadata": {},
   "outputs": [
    {
     "name": "stdout",
     "output_type": "stream",
     "text": [
      "defining constants successful!\n"
     ]
    }
   ],
   "source": [
    "# Increasing the image size didn't result in increasing the training accuracy\n",
    "IMAGE_WIDTH = 320    \n",
    "IMAGE_HEIGHT = 320\n",
    "IMAGE_SIZE=(IMAGE_WIDTH, IMAGE_HEIGHT)\n",
    "IMAGE_CHANNELS = 3\n",
    "\n",
    "# Path where our data is located\n",
    "base_path = \"C:/Users/Hugh/Desktop/Master/T1 2022/SIT744 Deep learning/Assignment 2/garbage-data/garbage_classification/\"\n",
    "\n",
    "\n",
    "# Dictionary to save our 12 classes\n",
    "categories = {0: 'paper', 1: 'cardboard', 2: 'plastic', 3: 'metal', 4: 'trash', 5: 'battery',\n",
    "              6: 'shoes', 7: 'clothes', 8: 'green-glass', 9: 'brown-glass', 10: 'white-glass',\n",
    "              11: 'biological'}\n",
    "\n",
    "print('defining constants successful!')"
   ]
  },
  {
   "cell_type": "markdown",
   "id": "d77bbc60-e898-4426-8f91-7b3695ec1728",
   "metadata": {},
   "source": [
    "#### Creating a dataframe\n",
    "\n",
    "Now we are creating a dataframe that has in one columnthe filenames of all our images and in the other column the corresponding category. We open the directories in the dataset one by one, save the filenames in the filename_list and add the corresponding category in the categories_list."
   ]
  },
  {
   "cell_type": "code",
   "execution_count": 4,
   "id": "29d27c82-d17e-4644-9502-296c8e669686",
   "metadata": {},
   "outputs": [
    {
     "name": "stdout",
     "output_type": "stream",
     "text": [
      "number of elements =  15515\n"
     ]
    }
   ],
   "source": [
    "# Add class name prefix to filename. So for example \"/paper104.jpg\" become \"paper/paper104.jpg\"\n",
    "def add_class_name_prefix(df, col_name):\n",
    "    df[col_name] = df[col_name].apply(lambda x: x[:re.search(\"\\d\",x).start()] + '/' + x)\n",
    "    return df\n",
    "\n",
    "# list conatining all the filenames in the dataset\n",
    "filenames_list = []\n",
    "# list to store the corresponding category, note that each folder of the dataset has one class of data\n",
    "categories_list = []\n",
    "\n",
    "for category in categories:\n",
    "    filenames = os.listdir(base_path + categories[category])\n",
    "    \n",
    "    filenames_list = filenames_list  +filenames\n",
    "    categories_list = categories_list + [category] * len(filenames)\n",
    "    \n",
    "df = pd.DataFrame({\n",
    "    'filename': filenames_list,\n",
    "    'category': categories_list\n",
    "})\n",
    "\n",
    "df = add_class_name_prefix(df, 'filename')\n",
    "\n",
    "# Shuffle the dataframe\n",
    "df = df.sample(frac=1).reset_index(drop=True)\n",
    "\n",
    "print('number of elements = ' , len(df))"
   ]
  },
  {
   "cell_type": "code",
   "execution_count": 5,
   "id": "36ba0c4d-8559-441d-bb5b-a28631117317",
   "metadata": {},
   "outputs": [
    {
     "data": {
      "text/html": [
       "<div>\n",
       "<style scoped>\n",
       "    .dataframe tbody tr th:only-of-type {\n",
       "        vertical-align: middle;\n",
       "    }\n",
       "\n",
       "    .dataframe tbody tr th {\n",
       "        vertical-align: top;\n",
       "    }\n",
       "\n",
       "    .dataframe thead th {\n",
       "        text-align: right;\n",
       "    }\n",
       "</style>\n",
       "<table border=\"1\" class=\"dataframe\">\n",
       "  <thead>\n",
       "    <tr style=\"text-align: right;\">\n",
       "      <th></th>\n",
       "      <th>filename</th>\n",
       "      <th>category</th>\n",
       "    </tr>\n",
       "  </thead>\n",
       "  <tbody>\n",
       "    <tr>\n",
       "      <th>0</th>\n",
       "      <td>metal/metal391.jpg</td>\n",
       "      <td>3</td>\n",
       "    </tr>\n",
       "    <tr>\n",
       "      <th>1</th>\n",
       "      <td>clothes/clothes1453.jpg</td>\n",
       "      <td>7</td>\n",
       "    </tr>\n",
       "    <tr>\n",
       "      <th>2</th>\n",
       "      <td>white-glass/white-glass432.jpg</td>\n",
       "      <td>10</td>\n",
       "    </tr>\n",
       "    <tr>\n",
       "      <th>3</th>\n",
       "      <td>metal/metal331.jpg</td>\n",
       "      <td>3</td>\n",
       "    </tr>\n",
       "    <tr>\n",
       "      <th>4</th>\n",
       "      <td>plastic/plastic501.jpg</td>\n",
       "      <td>2</td>\n",
       "    </tr>\n",
       "  </tbody>\n",
       "</table>\n",
       "</div>"
      ],
      "text/plain": [
       "                         filename  category\n",
       "0              metal/metal391.jpg         3\n",
       "1         clothes/clothes1453.jpg         7\n",
       "2  white-glass/white-glass432.jpg        10\n",
       "3              metal/metal331.jpg         3\n",
       "4          plastic/plastic501.jpg         2"
      ]
     },
     "execution_count": 5,
     "metadata": {},
     "output_type": "execute_result"
    }
   ],
   "source": [
    "df.head()"
   ]
  },
  {
   "cell_type": "code",
   "execution_count": 6,
   "id": "b0b48c5e-2b7e-460d-8b00-81920ee3623c",
   "metadata": {},
   "outputs": [
    {
     "name": "stdout",
     "output_type": "stream",
     "text": [
      "cardboard/cardboard600.jpg\n"
     ]
    },
    {
     "data": {
      "text/plain": [
       "<matplotlib.image.AxesImage at 0x1d7b47c40a0>"
      ]
     },
     "execution_count": 6,
     "metadata": {},
     "output_type": "execute_result"
    },
    {
     "data": {
      "image/png": "[encoded data removed]",
      "text/plain": [
       "<Figure size 432x288 with 1 Axes>"
      ]
     },
     "metadata": {
      "needs_background": "light"
     },
     "output_type": "display_data"
    }
   ],
   "source": [
    "# see sample image, you can run the same cell again to get a different image\n",
    "random_row = random.randint(0, len(df)-1)\n",
    "sample = df.iloc[random_row]\n",
    "randomimage = image.load_img(base_path +sample['filename'])\n",
    "print(sample['filename'])\n",
    "plt.imshow(randomimage)"
   ]
  },
  {
   "cell_type": "markdown",
   "id": "fe20db8e-2812-4c4c-9300-23b1f260cc0a",
   "metadata": {},
   "source": [
    "#### Visualising categories distribution"
   ]
  },
  {
   "cell_type": "code",
   "execution_count": 7,
   "id": "7d6b4394-9389-43b1-8593-43d1c336ac52",
   "metadata": {},
   "outputs": [
    {
     "data": {
      "image/png": "[encoded data removed]",
      "text/plain": [
       "<Figure size 432x288 with 1 Axes>"
      ]
     },
     "metadata": {
      "needs_background": "light"
     },
     "output_type": "display_data"
    }
   ],
   "source": [
    "df_visualization = df.copy()\n",
    "# Change the catgegories from numbers to names\n",
    "df_visualization['category'] = df_visualization['category'].apply(lambda x:categories[x] )\n",
    "\n",
    "df_visualization['category'].value_counts().plot.bar(x = 'count', y = 'category' )\n",
    "\n",
    "plt.xlabel(\"Garbage Classes\", labelpad=14)\n",
    "plt.ylabel(\"Images Count\", labelpad=14)\n",
    "plt.title(\"Count of images per class\", y=1.02);"
   ]
  },
  {
   "cell_type": "markdown",
   "id": "18b03b0a-0fc6-4065-a71a-8d9fa6bcab96",
   "metadata": {},
   "source": [
    "#### Building a model \n",
    "\n",
    "The steps are:\n",
    "\n",
    "1. Create an xception model without the last layer and load the ImageNet pretrained weights\n",
    "2. Add a pre-processing layer\n",
    "3. Add a pooling layer followed by a softmax layer at the end"
   ]
  },
  {
   "cell_type": "code",
   "execution_count": 8,
   "id": "ce4c1935-1b39-4a10-aa17-3df7fc53df68",
   "metadata": {},
   "outputs": [
    {
     "name": "stdout",
     "output_type": "stream",
     "text": [
      "Model: \"sequential\"\n",
      "_________________________________________________________________\n",
      " Layer (type)                Output Shape              Param #   \n",
      "=================================================================\n",
      " lambda (Lambda)             (None, 320, 320, 3)       0         \n",
      "                                                                 \n",
      " xception (Functional)       (None, 10, 10, 2048)      20861480  \n",
      "                                                                 \n",
      " global_average_pooling2d (G  (None, 2048)             0         \n",
      " lobalAveragePooling2D)                                          \n",
      "                                                                 \n",
      " dense (Dense)               (None, 12)                24588     \n",
      "                                                                 \n",
      "=================================================================\n",
      "Total params: 20,886,068\n",
      "Trainable params: 24,588\n",
      "Non-trainable params: 20,861,480\n",
      "_________________________________________________________________\n"
     ]
    }
   ],
   "source": [
    "from tensorflow.keras.models import Sequential\n",
    "from tensorflow.keras.layers import Conv2D, MaxPooling2D, Dropout, Flatten, Dense, Activation, BatchNormalization\n",
    "import tensorflow.keras.applications.xception as xception\n",
    "\n",
    "xception_layer = xception.Xception(include_top = False, input_shape = (IMAGE_WIDTH, IMAGE_HEIGHT,IMAGE_CHANNELS),\n",
    "                       weights = 'C:/Users/Hugh/Desktop/Master/T1 2022/SIT744 Deep learning/Assignment 2/xceptron/xception_weights_tf_dim_ordering_tf_kernels_notop.h5')\n",
    "\n",
    "# We don't want to train the imported weights\n",
    "xception_layer.trainable = False\n",
    "\n",
    "\n",
    "model = Sequential()\n",
    "model.add(keras.Input(shape=(IMAGE_WIDTH, IMAGE_HEIGHT, IMAGE_CHANNELS)))\n",
    "\n",
    "#create a custom layer to apply the preprocessing\n",
    "def xception_preprocessing(img):\n",
    "  return xception.preprocess_input(img)\n",
    "\n",
    "model.add(Lambda(xception_preprocessing))\n",
    "\n",
    "model.add(xception_layer)\n",
    "model.add(tf.keras.layers.GlobalAveragePooling2D())\n",
    "model.add(Dense(len(categories), activation='softmax')) \n",
    "\n",
    "model.compile(loss='categorical_crossentropy', optimizer='adam', metrics=['categorical_accuracy'])\n",
    "\n",
    "model.summary()"
   ]
  },
  {
   "cell_type": "markdown",
   "id": "851c8191-30f6-49f0-a558-d443200ff4ad",
   "metadata": {},
   "source": [
    "We will use the EarlyStopping call back to stop our training if the validation_accuray is not improving for a certain number of epochs."
   ]
  },
  {
   "cell_type": "code",
   "execution_count": 9,
   "id": "b899a02a-6267-4b3c-b114-a22311c92582",
   "metadata": {},
   "outputs": [
    {
     "name": "stdout",
     "output_type": "stream",
     "text": [
      "call back defined!\n"
     ]
    }
   ],
   "source": [
    "early_stop = EarlyStopping(patience = 2, verbose = 1, monitor='val_categorical_accuracy' , mode='max', min_delta=0.001, restore_best_weights = True)\n",
    "\n",
    "callbacks = [early_stop]\n",
    "\n",
    "print('call back defined!')"
   ]
  },
  {
   "cell_type": "markdown",
   "id": "1abe16f5-fa90-4edf-b41e-61f0c1979284",
   "metadata": {},
   "source": [
    "#### Splitting the dataset\n",
    "\n",
    "We are splitting the training set into 3 different sets:\n",
    "1. The training set\n",
    "2. The validation set\n",
    "3. The test set\n",
    "\n",
    "As mentioned earlier, we are splitting the data set as follows: 80% train set, 10% cross validation set, and 10% test set"
   ]
  },
  {
   "cell_type": "code",
   "execution_count": 21,
   "id": "14d8a7d0-23a9-4868-a522-351f4bee8b3e",
   "metadata": {},
   "outputs": [
    {
     "name": "stdout",
     "output_type": "stream",
     "text": [
      "train size =  1551 validate size =  1551 test size =  1552\n"
     ]
    }
   ],
   "source": [
    "#Change the categories from numbers to names\n",
    "df[\"category\"] = df[\"category\"].replace(categories) \n",
    "\n",
    "# We first split the data into two sets and then split the validate_df to two sets\n",
    "train_df, validate_df = train_test_split(df, test_size=0.2, random_state=42)\n",
    "validate_df, test_df = train_test_split(validate_df, test_size=0.5, random_state=42)\n",
    "\n",
    "train_df = train_df.reset_index(drop=True)\n",
    "validate_df = validate_df.reset_index(drop=True)\n",
    "test_df = test_df.reset_index(drop=True)\n",
    "\n",
    "total_train = train_df.shape[0]\n",
    "total_validate = validate_df.shape[0]\n",
    "\n",
    "print('train size = ', total_validate , 'validate size = ', total_validate, 'test size = ', test_df.shape[0])"
   ]
  },
  {
   "cell_type": "markdown",
   "id": "fdd72562-685b-4ce6-b6a8-6031714b5133",
   "metadata": {},
   "source": [
    "#### Training the model\n",
    "\n",
    "We will first create the training data generator, that will get the images from the input data directory to train on them. We will also create a generator for the validation set. Although I have included ImageDataGenerator, I am not doing data augmentation until the next task. "
   ]
  },
  {
   "cell_type": "code",
   "execution_count": 22,
   "id": "b78290e1-375e-4396-8222-0621cac42dc8",
   "metadata": {},
   "outputs": [
    {
     "name": "stdout",
     "output_type": "stream",
     "text": [
      "Found 12412 validated image filenames belonging to 12 classes.\n"
     ]
    }
   ],
   "source": [
    "batch_size=64\n",
    "\n",
    "train_datagen = image.ImageDataGenerator()\n",
    "\n",
    "train_generator = train_datagen.flow_from_dataframe(\n",
    "    train_df, \n",
    "    base_path, \n",
    "    x_col='filename',\n",
    "    y_col='category',\n",
    "    target_size=IMAGE_SIZE,\n",
    "    class_mode='categorical',\n",
    "    batch_size=batch_size\n",
    ")"
   ]
  },
  {
   "cell_type": "code",
   "execution_count": 23,
   "id": "e51829a5-0edb-44c6-9902-ddc02d5e5d61",
   "metadata": {},
   "outputs": [
    {
     "name": "stdout",
     "output_type": "stream",
     "text": [
      "Found 1551 validated image filenames belonging to 12 classes.\n"
     ]
    }
   ],
   "source": [
    "validation_datagen = image.ImageDataGenerator()\n",
    "\n",
    "validation_generator = validation_datagen.flow_from_dataframe(\n",
    "    validate_df, \n",
    "    base_path, \n",
    "    x_col='filename',\n",
    "    y_col='category',\n",
    "    target_size=IMAGE_SIZE,\n",
    "    class_mode='categorical',\n",
    "    batch_size=batch_size\n",
    ")"
   ]
  },
  {
   "cell_type": "code",
   "execution_count": 24,
   "id": "79135232-64b8-41b0-9284-a5cf7eb86e7c",
   "metadata": {},
   "outputs": [
    {
     "name": "stdout",
     "output_type": "stream",
     "text": [
      "Epoch 1/20\n",
      "193/193 [==============================] - 148s 729ms/step - loss: 0.6131 - categorical_accuracy: 0.8413 - val_loss: 0.3225 - val_categorical_accuracy: 0.9160\n",
      "Epoch 2/20\n",
      "193/193 [==============================] - 317s 2s/step - loss: 0.2397 - categorical_accuracy: 0.9384 - val_loss: 0.2454 - val_categorical_accuracy: 0.9290\n",
      "Epoch 3/20\n",
      "193/193 [==============================] - 369s 2s/step - loss: 0.1853 - categorical_accuracy: 0.9506 - val_loss: 0.2170 - val_categorical_accuracy: 0.9401\n",
      "Epoch 4/20\n",
      "193/193 [==============================] - 374s 2s/step - loss: 0.1550 - categorical_accuracy: 0.9576 - val_loss: 0.2071 - val_categorical_accuracy: 0.9408\n",
      "Epoch 5/20\n",
      "193/193 [==============================] - 502s 3s/step - loss: 0.1344 - categorical_accuracy: 0.9624 - val_loss: 0.1861 - val_categorical_accuracy: 0.9421\n",
      "Epoch 6/20\n",
      "193/193 [==============================] - 1022s 5s/step - loss: 0.1184 - categorical_accuracy: 0.9678 - val_loss: 0.1783 - val_categorical_accuracy: 0.9473\n",
      "Epoch 7/20\n",
      "193/193 [==============================] - 892s 5s/step - loss: 0.1071 - categorical_accuracy: 0.9706 - val_loss: 0.1749 - val_categorical_accuracy: 0.9453\n",
      "Epoch 8/20\n",
      "193/193 [==============================] - ETA: 0s - loss: 0.0965 - categorical_accuracy: 0.9732Restoring model weights from the end of the best epoch: 6.\n",
      "193/193 [==============================] - 538s 3s/step - loss: 0.0965 - categorical_accuracy: 0.9732 - val_loss: 0.1749 - val_categorical_accuracy: 0.9460\n",
      "Epoch 8: early stopping\n"
     ]
    }
   ],
   "source": [
    "EPOCHS = 20\n",
    "history = model.fit(\n",
    "    train_generator, \n",
    "    epochs=EPOCHS,\n",
    "    validation_data=validation_generator,\n",
    "    validation_steps=total_validate//batch_size,\n",
    "    steps_per_epoch=total_train//batch_size,\n",
    "    callbacks=callbacks\n",
    ")"
   ]
  },
  {
   "cell_type": "code",
   "execution_count": 25,
   "id": "fddcbd8a-4d3a-4c13-a75b-031dbc46aa58",
   "metadata": {},
   "outputs": [],
   "source": [
    "model.save_weights(\"model.h5\")"
   ]
  },
  {
   "cell_type": "markdown",
   "id": "b86bfdff-9f9a-4441-a136-65e22aa636d0",
   "metadata": {},
   "source": [
    "#### Visualising the training process"
   ]
  },
  {
   "cell_type": "code",
   "execution_count": 26,
   "id": "ef87a00b-9c93-4882-9ef9-e235299264ef",
   "metadata": {},
   "outputs": [
    {
     "data": {
      "image/png": "[encoded data removed]",
      "text/plain": [
       "<Figure size 432x288 with 2 Axes>"
      ]
     },
     "metadata": {
      "needs_background": "light"
     },
     "output_type": "display_data"
    }
   ],
   "source": [
    "fig, (ax1, ax2) = plt.subplots(2, 1)\n",
    "ax1.plot(history.history['loss'], color='b', label=\"Training loss\")\n",
    "ax1.plot(history.history['val_loss'], color='r', label=\"validation loss\")\n",
    "ax1.set_yticks(np.arange(0, 0.7, 0.1))\n",
    "ax1.legend()\n",
    "\n",
    "ax2.plot(history.history['categorical_accuracy'], color='b', label=\"Training accuracy\")\n",
    "ax2.plot(history.history['val_categorical_accuracy'], color='r',label=\"Validation accuracy\")\n",
    "ax2.legend()\n",
    "\n",
    "legend = plt.legend(loc='best')\n",
    "plt.tight_layout()\n",
    "plt.show()"
   ]
  },
  {
   "cell_type": "markdown",
   "id": "0a5a08e3-317d-4c17-b63a-e4e6a98b1eea",
   "metadata": {},
   "source": [
    "#### Evaluating the test results\n",
    "\n",
    "To assess our model's performance, we'll develop a test generator that will load images from the input data directory and assess the results."
   ]
  },
  {
   "cell_type": "code",
   "execution_count": 27,
   "id": "854e39e9-7fb4-4a7e-8d69-130d1b65cc8a",
   "metadata": {},
   "outputs": [
    {
     "name": "stdout",
     "output_type": "stream",
     "text": [
      "Found 1552 validated image filenames belonging to 12 classes.\n"
     ]
    }
   ],
   "source": [
    "test_datagen = image.ImageDataGenerator()\n",
    "\n",
    "test_generator = test_datagen.flow_from_dataframe(\n",
    "    dataframe= test_df,\n",
    "    directory=base_path,\n",
    "    x_col='filename',\n",
    "    y_col='category',\n",
    "    target_size=IMAGE_SIZE,\n",
    "    color_mode=\"rgb\",\n",
    "    class_mode=\"categorical\",\n",
    "    batch_size=1,\n",
    "    shuffle=False \n",
    ")"
   ]
  },
  {
   "cell_type": "code",
   "execution_count": 28,
   "id": "29799845-bc89-4c7f-80be-b94217057937",
   "metadata": {},
   "outputs": [
    {
     "name": "stderr",
     "output_type": "stream",
     "text": [
      "C:\\Users\\Hugh\\AppData\\Local\\Temp\\ipykernel_17172\\79043940.py:4: UserWarning: `Model.evaluate_generator` is deprecated and will be removed in a future version. Please use `Model.evaluate`, which supports generators.\n",
      "  _, accuracy = model.evaluate_generator(test_generator, nb_samples)\n"
     ]
    },
    {
     "name": "stdout",
     "output_type": "stream",
     "text": [
      "accuracy on test set =  95.49 % \n"
     ]
    }
   ],
   "source": [
    "filenames = test_generator.filenames\n",
    "nb_samples = len(filenames)\n",
    "\n",
    "_, accuracy = model.evaluate_generator(test_generator, nb_samples)\n",
    "\n",
    "print('accuracy on test set = ',  round((accuracy * 100),2 ), '% ') "
   ]
  },
  {
   "cell_type": "markdown",
   "id": "ec87325d-b43a-4249-aa03-821cc227b631",
   "metadata": {},
   "source": [
    "We can see that our test results shows an accuracy of over 95% which mean that our model is performing relatively well. Now we will look at the F1 score for each of the garbage categories, which we will use classification report function in the sklearn module."
   ]
  },
  {
   "cell_type": "code",
   "execution_count": 24,
   "id": "63f7243c-961d-44ab-bcc3-165c165da9a5",
   "metadata": {},
   "outputs": [
    {
     "ename": "NameError",
     "evalue": "name 'test_generator' is not defined",
     "output_type": "error",
     "traceback": [
      "\u001b[1;31m---------------------------------------------------------------------------\u001b[0m",
      "\u001b[1;31mNameError\u001b[0m                                 Traceback (most recent call last)",
      "\u001b[1;32m~\\AppData\\Local\\Temp\\ipykernel_29232\\122473679.py\u001b[0m in \u001b[0;36m<module>\u001b[1;34m\u001b[0m\n\u001b[0;32m      3\u001b[0m \u001b[1;31m# will be made using the genrator's dictionary.\u001b[0m\u001b[1;33m\u001b[0m\u001b[1;33m\u001b[0m\u001b[0m\n\u001b[0;32m      4\u001b[0m \u001b[1;33m\u001b[0m\u001b[0m\n\u001b[1;32m----> 5\u001b[1;33m \u001b[0mgen_label_map\u001b[0m \u001b[1;33m=\u001b[0m \u001b[0mtest_generator\u001b[0m\u001b[1;33m.\u001b[0m\u001b[0mclass_indices\u001b[0m\u001b[1;33m\u001b[0m\u001b[1;33m\u001b[0m\u001b[0m\n\u001b[0m\u001b[0;32m      6\u001b[0m \u001b[0mgen_label_map\u001b[0m \u001b[1;33m=\u001b[0m \u001b[0mdict\u001b[0m\u001b[1;33m(\u001b[0m\u001b[1;33m(\u001b[0m\u001b[0mv\u001b[0m\u001b[1;33m,\u001b[0m\u001b[0mk\u001b[0m\u001b[1;33m)\u001b[0m \u001b[1;32mfor\u001b[0m \u001b[0mk\u001b[0m\u001b[1;33m,\u001b[0m\u001b[0mv\u001b[0m \u001b[1;32min\u001b[0m \u001b[0mgen_label_map\u001b[0m\u001b[1;33m.\u001b[0m\u001b[0mitems\u001b[0m\u001b[1;33m(\u001b[0m\u001b[1;33m)\u001b[0m\u001b[1;33m)\u001b[0m\u001b[1;33m\u001b[0m\u001b[1;33m\u001b[0m\u001b[0m\n\u001b[0;32m      7\u001b[0m \u001b[0mprint\u001b[0m\u001b[1;33m(\u001b[0m\u001b[0mgen_label_map\u001b[0m\u001b[1;33m)\u001b[0m\u001b[1;33m\u001b[0m\u001b[1;33m\u001b[0m\u001b[0m\n",
      "\u001b[1;31mNameError\u001b[0m: name 'test_generator' is not defined"
     ]
    }
   ],
   "source": [
    "# We defined at the beginning of this notebook a dictionary that maps the categories number to names, but the train generator\n",
    "# generated it's own dictionary and it has assigned different numbers to our categories and the predictions made by the model \n",
    "# will be made using the genrator's dictionary.\n",
    "\n",
    "gen_label_map = test_generator.class_indices\n",
    "gen_label_map = dict((v,k) for k,v in gen_label_map.items())\n",
    "print(gen_label_map)"
   ]
  },
  {
   "cell_type": "code",
   "execution_count": 21,
   "id": "8c51f3b6-a30c-4e72-bcd2-fdc69d82bccc",
   "metadata": {},
   "outputs": [
    {
     "name": "stderr",
     "output_type": "stream",
     "text": [
      "C:\\Users\\Hugh\\AppData\\Local\\Temp\\ipykernel_2648\\727984934.py:2: UserWarning: `Model.predict_generator` is deprecated and will be removed in a future version. Please use `Model.predict`, which supports generators.\n",
      "  preds = model.predict_generator(test_generator, nb_samples)\n"
     ]
    },
    {
     "name": "stdout",
     "output_type": "stream",
     "text": [
      "              precision    recall  f1-score   support\n",
      "\n",
      "     battery       0.96      0.97      0.96        93\n",
      "  biological       0.99      1.00      0.99        82\n",
      " brown-glass       0.91      0.87      0.89        68\n",
      "   cardboard       0.94      0.93      0.93        96\n",
      "     clothes       0.99      0.99      0.99       533\n",
      " green-glass       0.96      0.89      0.92        72\n",
      "       metal       0.89      0.90      0.89        87\n",
      "       paper       0.91      0.96      0.93        94\n",
      "     plastic       0.89      0.82      0.85        78\n",
      "       shoes       0.98      1.00      0.99       206\n",
      "       trash       0.97      0.93      0.95        70\n",
      " white-glass       0.82      0.93      0.87        73\n",
      "\n",
      "    accuracy                           0.95      1552\n",
      "   macro avg       0.93      0.93      0.93      1552\n",
      "weighted avg       0.95      0.95      0.95      1552\n",
      "\n"
     ]
    }
   ],
   "source": [
    "# get the model's predictions for the test set\n",
    "preds = model.predict_generator(test_generator, nb_samples)\n",
    "\n",
    "# Get the category with the highest predicted probability, the prediction is only the category's number and not name\n",
    "preds = preds.argmax(1)\n",
    "\n",
    "# Convert the predicted category's number to name \n",
    "preds = [gen_label_map[item] for item in preds]\n",
    "\n",
    "# Convert the pandas dataframe to a numpy matrix\n",
    "labels = test_df['category'].to_numpy()\n",
    "\n",
    "print(classification_report(labels, preds))"
   ]
  },
  {
   "cell_type": "markdown",
   "id": "1594914d-f411-4901-b8d6-4f3572c9351c",
   "metadata": {},
   "source": [
    "The F1 score of each category is shown in the table above, among other things. Notice the two numbers accuracy and macro average at the bottom of the F1 score column. Accuracy is a weighted average of the accuracy we examined above for the test set.\n",
    "\n",
    "Thus, based on the model I have developed, I can say that it is performing very well over my expectation."
   ]
  },
  {
   "cell_type": "markdown",
   "id": "c1d3e0dd-a695-4c13-8dc0-20b051853f19",
   "metadata": {},
   "source": [
    "## **Task 2 (C Task) Analyse and improve the model**\n",
    "\n",
    "### Task 2.1 Build an input pipeline for data augmentation\n",
    "\n",
    "\n",
    "Build a data preprocessing pipeline to perform data augmentation. (You may use Keras ImageDataGenerator or write your own transformations.)\n",
    "\n",
    "- Report the model performance with the pipeline added. How much performance gain have you achieved?    \n",
    "\n",
    "- Profile your input pipeline to identify the most time-consuming operation. What actions have you taken to address that slow operation? (*Hint: You may use a profiler such as the [TensorFlow Profiler](https://github.com/tensorflow/profiler).*)"
   ]
  },
  {
   "cell_type": "code",
   "execution_count": 14,
   "id": "75464c23-fbff-4bc5-a90c-2161cef1856c",
   "metadata": {},
   "outputs": [
    {
     "name": "stdout",
     "output_type": "stream",
     "text": [
      "Found 12412 validated image filenames belonging to 12 classes.\n"
     ]
    }
   ],
   "source": [
    "batch_size=64\n",
    "\n",
    "# Data augmentation starts\n",
    "train_datagen2 = image.ImageDataGenerator(    \n",
    "    rotation_range=30,\n",
    "    shear_range=0.1,\n",
    "    zoom_range=0.3,\n",
    "    horizontal_flip=True,\n",
    "    vertical_flip = True,\n",
    "    width_shift_range=0.2,\n",
    "    height_shift_range=0.2\n",
    ")\n",
    "# Data augmentation ends\n",
    "\n",
    "train_generator2 = train_datagen2.flow_from_dataframe(\n",
    "    train_df, \n",
    "    base_path, \n",
    "    x_col='filename',\n",
    "    y_col='category',\n",
    "    target_size=IMAGE_SIZE,\n",
    "    class_mode='categorical',\n",
    "    batch_size=batch_size\n",
    ")"
   ]
  },
  {
   "cell_type": "code",
   "execution_count": 15,
   "id": "85ea2410-e4cd-4552-94b7-0b205eafb491",
   "metadata": {},
   "outputs": [
    {
     "name": "stdout",
     "output_type": "stream",
     "text": [
      "Found 1551 validated image filenames belonging to 12 classes.\n"
     ]
    }
   ],
   "source": [
    "validation_datagen2 = image.ImageDataGenerator()\n",
    "\n",
    "validation_generator2 = validation_datagen2.flow_from_dataframe(\n",
    "    validate_df, \n",
    "    base_path, \n",
    "    x_col='filename',\n",
    "    y_col='category',\n",
    "    target_size=IMAGE_SIZE,\n",
    "    class_mode='categorical',\n",
    "    batch_size=batch_size\n",
    ")"
   ]
  },
  {
   "cell_type": "code",
   "execution_count": 16,
   "id": "e49d993a-07ac-4a56-a3a5-8d1296030b6e",
   "metadata": {},
   "outputs": [],
   "source": [
    "# Create a TensorBoard callback\n",
    "logs = \"logs/\" + datetime.now().strftime(\"%Y%m%d-%H%M%S\")\n",
    "\n",
    "tboard_callback = tf.keras.callbacks.TensorBoard(log_dir = logs,\n",
    "                                                 histogram_freq = 1,\n",
    "                                                 profile_batch = '500,520')"
   ]
  },
  {
   "cell_type": "code",
   "execution_count": 17,
   "id": "f3256e3e-4853-41a8-a4ef-7c8c297631f1",
   "metadata": {},
   "outputs": [
    {
     "name": "stdout",
     "output_type": "stream",
     "text": [
      "Epoch 1/20\n",
      "193/193 [==============================] - 190s 956ms/step - loss: 0.7811 - categorical_accuracy: 0.7851 - val_loss: 0.3455 - val_categorical_accuracy: 0.9121\n",
      "Epoch 2/20\n",
      "193/193 [==============================] - 176s 911ms/step - loss: 0.3657 - categorical_accuracy: 0.8963 - val_loss: 0.2656 - val_categorical_accuracy: 0.9193\n",
      "Epoch 3/20\n",
      "193/193 [==============================] - 176s 909ms/step - loss: 0.3051 - categorical_accuracy: 0.9083 - val_loss: 0.2295 - val_categorical_accuracy: 0.9271\n",
      "Epoch 4/20\n",
      "193/193 [==============================] - 177s 913ms/step - loss: 0.2754 - categorical_accuracy: 0.9155 - val_loss: 0.2113 - val_categorical_accuracy: 0.9349\n",
      "Epoch 5/20\n",
      "193/193 [==============================] - 189s 977ms/step - loss: 0.2473 - categorical_accuracy: 0.9244 - val_loss: 0.1984 - val_categorical_accuracy: 0.9401\n",
      "Epoch 6/20\n",
      "193/193 [==============================] - 182s 942ms/step - loss: 0.2406 - categorical_accuracy: 0.9263 - val_loss: 0.1899 - val_categorical_accuracy: 0.9434\n",
      "Epoch 7/20\n",
      "193/193 [==============================] - 179s 924ms/step - loss: 0.2244 - categorical_accuracy: 0.9291 - val_loss: 0.1919 - val_categorical_accuracy: 0.9421\n",
      "Epoch 8/20\n",
      "193/193 [==============================] - 178s 920ms/step - loss: 0.2131 - categorical_accuracy: 0.9359 - val_loss: 0.1913 - val_categorical_accuracy: 0.9349\n",
      "Epoch 9/20\n",
      "193/193 [==============================] - 179s 926ms/step - loss: 0.2087 - categorical_accuracy: 0.9358 - val_loss: 0.1762 - val_categorical_accuracy: 0.9453\n",
      "Epoch 10/20\n",
      "193/193 [==============================] - 178s 917ms/step - loss: 0.1989 - categorical_accuracy: 0.9380 - val_loss: 0.1792 - val_categorical_accuracy: 0.9434\n",
      "Epoch 11/20\n",
      "193/193 [==============================] - 176s 910ms/step - loss: 0.1938 - categorical_accuracy: 0.9383 - val_loss: 0.1678 - val_categorical_accuracy: 0.9492\n",
      "Epoch 12/20\n",
      "193/193 [==============================] - 183s 947ms/step - loss: 0.1875 - categorical_accuracy: 0.9407 - val_loss: 0.1728 - val_categorical_accuracy: 0.9473\n",
      "Epoch 13/20\n",
      "193/193 [==============================] - 179s 926ms/step - loss: 0.1882 - categorical_accuracy: 0.9417 - val_loss: 0.1631 - val_categorical_accuracy: 0.9499\n",
      "Epoch 14/20\n",
      "193/193 [==============================] - 183s 943ms/step - loss: 0.1809 - categorical_accuracy: 0.9416 - val_loss: 0.1621 - val_categorical_accuracy: 0.9505\n",
      "Epoch 15/20\n",
      "193/193 [==============================] - 181s 937ms/step - loss: 0.1739 - categorical_accuracy: 0.9436 - val_loss: 0.1698 - val_categorical_accuracy: 0.9434\n",
      "Epoch 16/20\n",
      "193/193 [==============================] - 174s 901ms/step - loss: 0.1729 - categorical_accuracy: 0.9448 - val_loss: 0.1607 - val_categorical_accuracy: 0.9492\n",
      "Epoch 17/20\n",
      "193/193 [==============================] - 175s 904ms/step - loss: 0.1681 - categorical_accuracy: 0.9471 - val_loss: 0.1567 - val_categorical_accuracy: 0.9525\n",
      "Epoch 18/20\n",
      "193/193 [==============================] - 186s 962ms/step - loss: 0.1603 - categorical_accuracy: 0.9496 - val_loss: 0.1572 - val_categorical_accuracy: 0.9538\n",
      "Epoch 19/20\n",
      "193/193 [==============================] - 198s 1s/step - loss: 0.1603 - categorical_accuracy: 0.9482 - val_loss: 0.1788 - val_categorical_accuracy: 0.9388\n",
      "Epoch 20/20\n",
      "193/193 [==============================] - 184s 953ms/step - loss: 0.1565 - categorical_accuracy: 0.9504 - val_loss: 0.1548 - val_categorical_accuracy: 0.9525\n"
     ]
    }
   ],
   "source": [
    "EPOCHS = 20\n",
    "history2 = model.fit(\n",
    "    train_generator2, \n",
    "    epochs=EPOCHS,\n",
    "    validation_data=validation_generator2,\n",
    "    validation_steps=total_validate//batch_size,\n",
    "    steps_per_epoch=total_train//batch_size,\n",
    "     callbacks = [tboard_callback]\n",
    ")"
   ]
  },
  {
   "cell_type": "code",
   "execution_count": 18,
   "id": "f2cd7e8d-5f74-459b-b425-73b19289dbc7",
   "metadata": {},
   "outputs": [],
   "source": [
    "model.save_weights(\"model2.h5\")"
   ]
  },
  {
   "cell_type": "markdown",
   "id": "976b9a0c-9cee-4dc7-a376-63c30b693f4d",
   "metadata": {},
   "source": [
    "#### Use the TensorFlow Profiler to profile model training performance"
   ]
  },
  {
   "cell_type": "code",
   "execution_count": 19,
   "id": "96d25e3b-8909-41c0-96b1-62a2e98bdcfd",
   "metadata": {},
   "outputs": [],
   "source": [
    "# Load the TensorBoard notebook extension.\n",
    "%reload_ext tensorboard"
   ]
  },
  {
   "cell_type": "code",
   "execution_count": 20,
   "id": "855de6a2-d3f5-41cc-bb87-8910d234e2ba",
   "metadata": {},
   "outputs": [
    {
     "data": {
      "text/plain": [
       "Reusing TensorBoard on port 6006 (pid 16860), started 3:23:48 ago. (Use '!kill 16860' to kill it.)"
      ]
     },
     "metadata": {},
     "output_type": "display_data"
    },
    {
     "data": {
      "text/html": [
       "\n",
       "      <iframe id=\"tensorboard-frame-89168dc306226923\" width=\"100%\" height=\"800\" frameborder=\"0\">\n",
       "      </iframe>\n",
       "      <script>\n",
       "        (function() {\n",
       "          const frame = document.getElementById(\"tensorboard-frame-89168dc306226923\");\n",
       "          const url = new URL(\"/\", window.location);\n",
       "          const port = 6006;\n",
       "          if (port) {\n",
       "            url.port = port;\n",
       "          }\n",
       "          frame.src = url;\n",
       "        })();\n",
       "      </script>\n",
       "    "
      ],
      "text/plain": [
       "<IPython.core.display.HTML object>"
      ]
     },
     "metadata": {},
     "output_type": "display_data"
    }
   ],
   "source": [
    "# Launch TensorBoard and navigate to the Profile tab to view performance profile\n",
    "%tensorboard --logdir=logs"
   ]
  },
  {
   "cell_type": "markdown",
   "id": "aae289be-6d4c-4b22-932e-b893febd16c0",
   "metadata": {},
   "source": [
    "#### Evaluating the test results"
   ]
  },
  {
   "cell_type": "code",
   "execution_count": 21,
   "id": "db72a440-f2e3-407c-b49c-6f8f45d96f82",
   "metadata": {},
   "outputs": [
    {
     "name": "stdout",
     "output_type": "stream",
     "text": [
      "Found 1552 validated image filenames belonging to 12 classes.\n"
     ]
    }
   ],
   "source": [
    "test_datagen2 = image.ImageDataGenerator()\n",
    "\n",
    "test_generator2 = test_datagen2.flow_from_dataframe(\n",
    "    dataframe= test_df,\n",
    "    directory=base_path,\n",
    "    x_col='filename',\n",
    "    y_col='category',\n",
    "    target_size=IMAGE_SIZE,\n",
    "    color_mode=\"rgb\",\n",
    "    class_mode=\"categorical\",\n",
    "    batch_size=1,\n",
    "    shuffle=False \n",
    ")"
   ]
  },
  {
   "cell_type": "code",
   "execution_count": 22,
   "id": "632ea323-3788-486c-9e4c-eccea98363c3",
   "metadata": {},
   "outputs": [
    {
     "name": "stderr",
     "output_type": "stream",
     "text": [
      "C:\\Users\\Hugh\\AppData\\Local\\Temp\\ipykernel_29232\\1768348745.py:4: UserWarning: `Model.evaluate_generator` is deprecated and will be removed in a future version. Please use `Model.evaluate`, which supports generators.\n",
      "  _, accuracy = model.evaluate_generator(test_generator2, nb_samples)\n"
     ]
    },
    {
     "name": "stdout",
     "output_type": "stream",
     "text": [
      "accuracy on test set =  94.78 % \n"
     ]
    }
   ],
   "source": [
    "filenames = test_generator2.filenames\n",
    "nb_samples = len(filenames)\n",
    "\n",
    "_, accuracy = model.evaluate_generator(test_generator2, nb_samples)\n",
    "\n",
    "print('accuracy on test set = ',  round((accuracy * 100),2 ), '% ') "
   ]
  },
  {
   "cell_type": "markdown",
   "id": "4c6f9aca-f16b-40cf-8bdf-a6b3f627a35c",
   "metadata": {},
   "source": [
    "As we can see based on the results, the accuracy on test test is 95% as well. There is not much differences in performance when the model has data augmentation or without it."
   ]
  },
  {
   "cell_type": "code",
   "execution_count": 25,
   "id": "18602fa8-4237-4ab3-ad87-9d137702221e",
   "metadata": {},
   "outputs": [
    {
     "name": "stdout",
     "output_type": "stream",
     "text": [
      "{0: 'battery', 1: 'biological', 2: 'brown-glass', 3: 'cardboard', 4: 'clothes', 5: 'green-glass', 6: 'metal', 7: 'paper', 8: 'plastic', 9: 'shoes', 10: 'trash', 11: 'white-glass'}\n"
     ]
    },
    {
     "name": "stderr",
     "output_type": "stream",
     "text": [
      "C:\\Users\\Hugh\\AppData\\Local\\Temp\\ipykernel_29232\\365224035.py:10: UserWarning: `Model.predict_generator` is deprecated and will be removed in a future version. Please use `Model.predict`, which supports generators.\n",
      "  preds = model.predict_generator(test_generator2, nb_samples)\n"
     ]
    },
    {
     "name": "stdout",
     "output_type": "stream",
     "text": [
      "              precision    recall  f1-score   support\n",
      "\n",
      "     battery       0.97      0.97      0.97        95\n",
      "  biological       0.96      0.98      0.97        90\n",
      " brown-glass       0.89      0.88      0.88        74\n",
      "   cardboard       0.98      0.87      0.92        91\n",
      "     clothes       1.00      0.99      0.99       539\n",
      " green-glass       0.90      0.85      0.87        61\n",
      "       metal       0.76      0.97      0.86        70\n",
      "       paper       0.90      0.92      0.91        93\n",
      "     plastic       0.89      0.79      0.84        85\n",
      "       shoes       0.96      1.00      0.98       201\n",
      "       trash       0.97      0.99      0.98        75\n",
      " white-glass       0.91      0.86      0.88        78\n",
      "\n",
      "    accuracy                           0.95      1552\n",
      "   macro avg       0.92      0.92      0.92      1552\n",
      "weighted avg       0.95      0.95      0.95      1552\n",
      "\n"
     ]
    }
   ],
   "source": [
    "# We defined at the beginning of this notebook a dictionary that maps the categories number to names, but the train generator\n",
    "# generated it's own dictionary and it has assigned different numbers to our categories and the predictions made by the model \n",
    "# will be made using the genrator's dictionary.\n",
    "\n",
    "gen_label_map = test_generator2.class_indices\n",
    "gen_label_map = dict((v,k) for k,v in gen_label_map.items())\n",
    "print(gen_label_map)\n",
    "\n",
    "# get the model's predictions for the test set\n",
    "preds = model.predict_generator(test_generator2, nb_samples)\n",
    "\n",
    "# Get the category with the highest predicted probability, the prediction is only the category's number and not name\n",
    "preds = preds.argmax(1)\n",
    "\n",
    "# Convert the predicted category's number to name \n",
    "preds = [gen_label_map[item] for item in preds]\n",
    "\n",
    "# Convert the pandas dataframe to a numpy matrix\n",
    "labels = test_df['category'].to_numpy()\n",
    "\n",
    "print(classification_report(labels, preds))"
   ]
  },
  {
   "cell_type": "markdown",
   "id": "a32d5e3e-5da7-4c05-a880-bb9d80f15091",
   "metadata": {},
   "source": [
    "### Task 2.2 Compare the performance under equal training time\n",
    "\n",
    "You may notice that with your pipeline, the model performance improves, but at the cost of a longer training time per epoch. Is the additional training time well spent? Compare the dynamic of model performance (e.g., classification accuracy on the test data) with and without data augmentation, when equal training time is spent in the two scenarios. "
   ]
  },
  {
   "cell_type": "markdown",
   "id": "468c50ea-228f-4665-942c-1cfe8393592d",
   "metadata": {},
   "source": [
    "As we can see in our classification report for the model that has performed image augmentation, some of the categories such as clothes and metal has a better performance based on precision and a slightly better marginal scores as well. However, the training time between two models differs significantly. For example, in our first model, one epoch took approximately 70s to run whereas in our second model it took 180s on average to run. In my opinion, with my current computational power (RTX3060) the improvement in the second model is quite marginal and it does not justify the use of data augmentation with a significantly longer training time. "
   ]
  },
  {
   "cell_type": "markdown",
   "id": "db953981-cf3a-45ef-90cc-5af43337672b",
   "metadata": {},
   "source": [
    "### Task 2.3 Identifying model strength and weakness\n",
    "\n",
    "Identify images that are incorrectly classified by your model. Do they share something in common? How do you plan to improve the model's performance on those images? "
   ]
  },
  {
   "cell_type": "markdown",
   "id": "5a8803ad-3d14-4ad4-84e8-034a4d627d71",
   "metadata": {},
   "source": [
    "The macro avg (unweighted average) is, however, slightly less than accuracy. Because the clothing category, which contains by far the most photos, has a high F1 score, accuracy (the weighted average) is higher than the unweighted average (macro avg).\n",
    "\n",
    "For this case, I believe the macro avg is a better measure of accuracy because it averages all of the F1 scores, regardless of how much data is in the training set for each category. The other weakness of this model is that it is a complex model to train model and can accomplish multiple processes simulateously but it requires a decent graphical processing unit (GPU), otherwise, it will take a long time to go through one images alone. Because CNN works by assessing an image's distinguishing qualities, it's clear that it's perfect for security checks and other similar applications. Regardless of how wonderful it seems, without the proper instruction, this might potentially backfire.\n",
    "\n",
    "Because it relies only on distinguishing traits, it is readily fooled into believing that one thing is actually another. So, even if the 'distinct aspects' of an image are ordered differently, CNN will still match it to the original.\n",
    "\n",
    "On the plus side, CNN's incorrect translations can be trained out. After all, while a few lines of code won't be able to duplicate human behaviour, neural networks are modelled after human cognitive capabilities. As a result, it is still capable of learning. However, similar to teaching a toddler, this training phase may take a long time, especially if your GPU isn't the best. As a result, you must prepare yourself for this difficult task ahead of time[4].\n",
    "\n",
    "As image classification and identification are CNN's area of expertise. Although the image was tampered with or some parts of it were edited out, CNN can still pull out the original image as long as its distinct features remain. Moreover, ConvNets, as previously said, is fully capable of evaluating and processing data utilising its built-in intuition. As a result, you may expect it to grow even more over time. When consumers continue to provide it the same type of data, this can be highly useful.\n",
    "\n",
    "Unlike artificial intelligence, ConvNets—and neural networks in general—would utilise their algorithm to interpret data 'outside the box,' rather than approaching it in the same manner every time. As a result, it will have greater room to develop its powers. CNNs are expected to hold massive amounts of data because they are designed to conduct numerous tasks at once. However, because CNN's aim is to filter through every piece of input data, you don't have to worry about meaningless data clogging up the system. As a result, ConvNets makes sure that its enormous storage is put to good use."
   ]
  },
  {
   "cell_type": "markdown",
   "id": "97bfcfc5-cd27-4ba8-9ed6-d417cd17baa4",
   "metadata": {},
   "source": [
    "## **Task 3 (D Task) Improve model generalisability across domains**\n",
    "\n",
    "Show sample images from the original test data and the newly collected test data. In what ways are they different?\n",
    "\n",
    "Feed the new test data into your model. Report the performance change.\n",
    "\n",
    "Improve your model so that it generalises better on unseen test images.\n",
    "\n",
    "In this part, I have found a variety of scrap data from various sources such as google images, images from my phone, kaggle, etc. All images were arrange according to its respective classes (12 classes) and in the same directory as my previous model. There are a total of 7397 new images in this section of the task.\n",
    "\n",
    "We will perform the same pre-processing steps is previous model and use the same model that we have developed and compare its performance. "
   ]
  },
  {
   "cell_type": "markdown",
   "id": "67d16885-fd41-4a98-a3c9-04cb6110a092",
   "metadata": {},
   "source": [
    "### Defining Constant"
   ]
  },
  {
   "cell_type": "code",
   "execution_count": 10,
   "id": "9b541bb8-2e00-4eea-b875-f38c591d7d78",
   "metadata": {},
   "outputs": [
    {
     "name": "stdout",
     "output_type": "stream",
     "text": [
      "defining constants successful!\n"
     ]
    }
   ],
   "source": [
    "# Increasing the image size didn't result in increasing the training accuracy\n",
    "IMAGE_WIDTH = 320    \n",
    "IMAGE_HEIGHT = 320\n",
    "IMAGE_SIZE=(IMAGE_WIDTH, IMAGE_HEIGHT)\n",
    "IMAGE_CHANNELS = 3\n",
    "\n",
    "# Path where our data is located\n",
    "base_path2 = \"C:/Users/Hugh/Desktop/Master/T1 2022/SIT744 Deep learning/Assignment 2/garbageNewImage/\"\n",
    "\n",
    "\n",
    "# Dictionary to save our 12 classes\n",
    "categories = {0: 'paper', 1: 'cardboard', 2: 'plastic', 3: 'metal', 4: 'trash', 5: 'battery',\n",
    "              6: 'shoes', 7: 'clothes', 8: 'green-glass', 9: 'brown-glass', 10: 'white-glass',\n",
    "              11: 'biological'}\n",
    "\n",
    "print('defining constants successful!')"
   ]
  },
  {
   "cell_type": "markdown",
   "id": "834b8145-0425-4416-9d65-67b7c15d50ed",
   "metadata": {},
   "source": [
    "### Creating a dataframe"
   ]
  },
  {
   "cell_type": "code",
   "execution_count": 11,
   "id": "1b84e79f-495a-4de8-aa99-1337e16db2b3",
   "metadata": {},
   "outputs": [
    {
     "name": "stdout",
     "output_type": "stream",
     "text": [
      "number of elements =  120\n"
     ]
    }
   ],
   "source": [
    "# Add class name prefix to filename. So for example \"/paper104.jpg\" become \"paper/paper104.jpg\"\n",
    "def add_class_name_prefix(df, col_name):\n",
    "    df[col_name] = df[col_name].apply(lambda x: x[:re.search(\"\\d\",x).start()] + '/' + x)\n",
    "    return df\n",
    "\n",
    "# list containing all the filenames in the dataset\n",
    "filenames_list = []\n",
    "# list to store the corresponding category, note that each folder of the dataset has one class of data\n",
    "categories_list = []\n",
    "\n",
    "for category in categories:\n",
    "    filenames = os.listdir(base_path2 + categories[category])\n",
    "    \n",
    "    filenames_list = filenames_list  +filenames\n",
    "    categories_list = categories_list + [category] * len(filenames)\n",
    "    \n",
    "df2 = pd.DataFrame({\n",
    "    'filename': filenames_list,\n",
    "    'category': categories_list\n",
    "})\n",
    "\n",
    "df2 = add_class_name_prefix(df2, 'filename')\n",
    "\n",
    "# Shuffle the dataframe\n",
    "df2 = df2.sample(frac=1).reset_index(drop=True)\n",
    "\n",
    "print('number of elements = ' , len(df2))"
   ]
  },
  {
   "cell_type": "code",
   "execution_count": 12,
   "id": "a037eb4b-72b4-4856-9357-a18224c25bbc",
   "metadata": {},
   "outputs": [
    {
     "name": "stdout",
     "output_type": "stream",
     "text": [
      "clothes/clothes4259.jpg\n"
     ]
    },
    {
     "data": {
      "text/plain": [
       "<matplotlib.image.AxesImage at 0x140bf9d6be0>"
      ]
     },
     "execution_count": 12,
     "metadata": {},
     "output_type": "execute_result"
    },
    {
     "data": {
      "image/png": "[encoded data removed]",
      "text/plain": [
       "<Figure size 432x288 with 1 Axes>"
      ]
     },
     "metadata": {
      "needs_background": "light"
     },
     "output_type": "display_data"
    }
   ],
   "source": [
    "# see sample image, you can run the same cell again to get a different image\n",
    "random_row = random.randint(0, len(df2)-1)\n",
    "sample = df2.iloc[random_row]\n",
    "randomimage = image.load_img(base_path2 +sample['filename'])\n",
    "print(sample['filename'])\n",
    "plt.imshow(randomimage)"
   ]
  },
  {
   "cell_type": "markdown",
   "id": "2b48185f-8d6d-4de9-8d2e-81bae56f9d3a",
   "metadata": {},
   "source": [
    "### Visualising new images categories distribution"
   ]
  },
  {
   "cell_type": "code",
   "execution_count": 13,
   "id": "715c943f-b2bb-4ae9-96f2-fa90dea016fc",
   "metadata": {},
   "outputs": [
    {
     "data": {
      "image/png": "[encoded data removed]",
      "text/plain": [
       "<Figure size 432x288 with 1 Axes>"
      ]
     },
     "metadata": {
      "needs_background": "light"
     },
     "output_type": "display_data"
    }
   ],
   "source": [
    "df_visualization = df2.copy()\n",
    "# Change the catgegories from numbers to names\n",
    "df_visualization['category'] = df_visualization['category'].apply(lambda x:categories[x] )\n",
    "\n",
    "df_visualization['category'].value_counts().plot.bar(x = 'count', y = 'category' )\n",
    "\n",
    "plt.xlabel(\"Garbage Classes\", labelpad=14)\n",
    "plt.ylabel(\"Images Count\", labelpad=14)\n",
    "plt.title(\"Count of images per class\", y=1.02);"
   ]
  },
  {
   "cell_type": "markdown",
   "id": "2bb71fc1-12dc-4f52-8783-cfe8fa2f8aca",
   "metadata": {},
   "source": [
    "As we can see for this time, the distributions of the new images are different, clothes does not have the high count anymore."
   ]
  },
  {
   "cell_type": "markdown",
   "id": "77a2605f-0b96-4586-8661-25212f762336",
   "metadata": {},
   "source": [
    "### Fitting the same model\n",
    "\n",
    "Here we can using the same model that does not include data augmentation steps as we have seen previously. "
   ]
  },
  {
   "cell_type": "code",
   "execution_count": 58,
   "id": "2e45f452-cb56-4d32-a820-03eec4fe5664",
   "metadata": {},
   "outputs": [
    {
     "name": "stdout",
     "output_type": "stream",
     "text": [
      "Model: \"sequential\"\n",
      "_________________________________________________________________\n",
      " Layer (type)                Output Shape              Param #   \n",
      "=================================================================\n",
      " lambda (Lambda)             (None, 320, 320, 3)       0         \n",
      "                                                                 \n",
      " xception (Functional)       (None, 10, 10, 2048)      20861480  \n",
      "                                                                 \n",
      " global_average_pooling2d (G  (None, 2048)             0         \n",
      " lobalAveragePooling2D)                                          \n",
      "                                                                 \n",
      " dense (Dense)               (None, 12)                24588     \n",
      "                                                                 \n",
      "=================================================================\n",
      "Total params: 20,886,068\n",
      "Trainable params: 24,588\n",
      "Non-trainable params: 20,861,480\n",
      "_________________________________________________________________\n"
     ]
    }
   ],
   "source": [
    "from tensorflow.keras.models import Sequential\n",
    "from tensorflow.keras.layers import Conv2D, MaxPooling2D, Dropout, Flatten, Dense, Activation, BatchNormalization\n",
    "import tensorflow.keras.applications.xception as xception\n",
    "\n",
    "xception_layer = xception.Xception(include_top = False, input_shape = (IMAGE_WIDTH, IMAGE_HEIGHT,IMAGE_CHANNELS),\n",
    "                       weights = 'C:/Users/Hugh/Desktop/Master/T1 2022/SIT744 Deep learning/Assignment 2/xceptron/xception_weights_tf_dim_ordering_tf_kernels_notop.h5')\n",
    "\n",
    "# We don't want to train the imported weights\n",
    "xception_layer.trainable = False\n",
    "\n",
    "\n",
    "model = Sequential()\n",
    "model.add(keras.Input(shape=(IMAGE_WIDTH, IMAGE_HEIGHT, IMAGE_CHANNELS)))\n",
    "\n",
    "#create a custom layer to apply the preprocessing\n",
    "def xception_preprocessing(img):\n",
    "  return xception.preprocess_input(img)\n",
    "\n",
    "model.add(Lambda(xception_preprocessing))\n",
    "\n",
    "model.add(xception_layer)\n",
    "model.add(tf.keras.layers.GlobalAveragePooling2D())\n",
    "model.add(Dense(len(categories), activation='softmax')) \n",
    "\n",
    "model.compile(loss='categorical_crossentropy', optimizer='adam', metrics=['categorical_accuracy'])\n",
    "\n",
    "model.summary()"
   ]
  },
  {
   "cell_type": "markdown",
   "id": "06d6e034-f66a-452e-85be-760422da5482",
   "metadata": {},
   "source": [
    "### Defining callbacks and splitting the dataset"
   ]
  },
  {
   "cell_type": "code",
   "execution_count": 29,
   "id": "7e47893e-c71f-4fbc-89a9-c4c1c64e241d",
   "metadata": {},
   "outputs": [
    {
     "name": "stdout",
     "output_type": "stream",
     "text": [
      "call back defined!\n"
     ]
    }
   ],
   "source": [
    "early_stop = EarlyStopping(patience = 2, verbose = 1, monitor='val_categorical_accuracy' , mode='max', min_delta=0.001, restore_best_weights = True)\n",
    "\n",
    "callbacks = [early_stop]\n",
    "\n",
    "print('call back defined!')\n",
    "\n",
    "#Change the categories from numbers to names\n",
    "df2[\"category\"] = df2[\"category\"].replace(categories) \n",
    "\n",
    "# # We first split the data into two sets and then split the validate_df to two sets\n",
    "# train_df_2, validate_df_2 = train_test_split(df2, test_size=0.2, random_state=42)\n",
    "# validate_df_2, test_df_2 = train_test_split(validate_df_2, test_size=0.5, random_state=42)\n",
    "\n",
    "# train_df_2 = train_df_2.reset_index(drop=True)\n",
    "# validate_df_2 = validate_df_2.reset_index(drop=True)\n",
    "# test_df_2 = test_df_2.reset_index(drop=True)\n",
    "\n",
    "# total_train2 = train_df_2.shape[0]\n",
    "# total_validate2 = validate_df_2.shape[0]\n",
    "\n",
    "# print('train size = ', total_train2 , 'validate size = ', total_validate2, 'test size = ', test_df_2.shape[0])"
   ]
  },
  {
   "cell_type": "markdown",
   "id": "12cebf47-86af-4635-8f54-6a69ad31dfa8",
   "metadata": {},
   "source": [
    "### Training the model"
   ]
  },
  {
   "cell_type": "code",
   "execution_count": 62,
   "id": "e475244c-57ff-48fc-97a2-1df3b757d8ab",
   "metadata": {},
   "outputs": [
    {
     "name": "stdout",
     "output_type": "stream",
     "text": [
      "Found 5917 validated image filenames belonging to 12 classes.\n",
      "Found 740 validated image filenames belonging to 12 classes.\n"
     ]
    }
   ],
   "source": [
    "# batch_size=64\n",
    "\n",
    "# train_datagen = image.ImageDataGenerator()\n",
    "\n",
    "# train_generator = train_datagen.flow_from_dataframe(\n",
    "#     train_df_2, \n",
    "#     base_path2, \n",
    "#     x_col='filename',\n",
    "#     y_col='category',\n",
    "#     target_size=IMAGE_SIZE,\n",
    "#     class_mode='categorical',\n",
    "#     batch_size=batch_size\n",
    "# )\n",
    "\n",
    "# validation_datagen = image.ImageDataGenerator()\n",
    "\n",
    "# validation_generator = validation_datagen.flow_from_dataframe(\n",
    "#     validate_df_2, \n",
    "#     base_path2, \n",
    "#     x_col='filename',\n",
    "#     y_col='category',\n",
    "#     target_size=IMAGE_SIZE,\n",
    "#     class_mode='categorical',\n",
    "#     batch_size=batch_size\n",
    "# )"
   ]
  },
  {
   "cell_type": "code",
   "execution_count": 64,
   "id": "089221a0-aa19-452f-9273-45a270d3e1a0",
   "metadata": {},
   "outputs": [
    {
     "name": "stdout",
     "output_type": "stream",
     "text": [
      "Epoch 1/20\n",
      "92/92 [==============================] - 46s 408ms/step - loss: 0.9938 - categorical_accuracy: 0.7617 - val_loss: 0.4823 - val_categorical_accuracy: 0.8878\n",
      "Epoch 2/20\n",
      "92/92 [==============================] - 36s 391ms/step - loss: 0.4140 - categorical_accuracy: 0.8966 - val_loss: 0.3582 - val_categorical_accuracy: 0.9048\n",
      "Epoch 3/20\n",
      "92/92 [==============================] - 36s 393ms/step - loss: 0.3195 - categorical_accuracy: 0.9137 - val_loss: 0.3066 - val_categorical_accuracy: 0.9134\n",
      "Epoch 4/20\n",
      "92/92 [==============================] - 36s 394ms/step - loss: 0.2676 - categorical_accuracy: 0.9265 - val_loss: 0.2781 - val_categorical_accuracy: 0.9219\n",
      "Epoch 5/20\n",
      "92/92 [==============================] - 36s 395ms/step - loss: 0.2334 - categorical_accuracy: 0.9356 - val_loss: 0.2635 - val_categorical_accuracy: 0.9190\n",
      "Epoch 6/20\n",
      "92/92 [==============================] - 36s 395ms/step - loss: 0.2061 - categorical_accuracy: 0.9428 - val_loss: 0.2457 - val_categorical_accuracy: 0.9233\n",
      "Epoch 7/20\n",
      "92/92 [==============================] - 36s 395ms/step - loss: 0.1867 - categorical_accuracy: 0.9477 - val_loss: 0.2382 - val_categorical_accuracy: 0.9261\n",
      "Epoch 8/20\n",
      "92/92 [==============================] - 36s 394ms/step - loss: 0.1681 - categorical_accuracy: 0.9559 - val_loss: 0.2299 - val_categorical_accuracy: 0.9261\n",
      "Epoch 9/20\n",
      "92/92 [==============================] - ETA: 0s - loss: 0.1545 - categorical_accuracy: 0.9614Restoring model weights from the end of the best epoch: 7.\n",
      "92/92 [==============================] - 37s 396ms/step - loss: 0.1545 - categorical_accuracy: 0.9614 - val_loss: 0.2170 - val_categorical_accuracy: 0.9247\n",
      "Epoch 9: early stopping\n"
     ]
    }
   ],
   "source": [
    "# EPOCHS = 20\n",
    "# history = model.fit(\n",
    "#     train_generator, \n",
    "#     epochs=EPOCHS,\n",
    "#     validation_data=validation_generator,\n",
    "#     validation_steps=total_validate2//batch_size,\n",
    "#     steps_per_epoch=total_train2//batch_size,\n",
    "#     callbacks=callbacks\n",
    "# )"
   ]
  },
  {
   "cell_type": "markdown",
   "id": "cde89df3-c9b6-4694-876f-cb0f44246c88",
   "metadata": {},
   "source": [
    "### Evaluating the test result"
   ]
  },
  {
   "cell_type": "code",
   "execution_count": 30,
   "id": "ced61f71-d033-4f52-93a5-d3901ba8f390",
   "metadata": {},
   "outputs": [
    {
     "name": "stdout",
     "output_type": "stream",
     "text": [
      "Found 120 validated image filenames belonging to 12 classes.\n"
     ]
    },
    {
     "name": "stderr",
     "output_type": "stream",
     "text": [
      "C:\\Users\\Hugh\\AppData\\Local\\Temp\\ipykernel_17172\\1646367056.py:17: UserWarning: `Model.evaluate_generator` is deprecated and will be removed in a future version. Please use `Model.evaluate`, which supports generators.\n",
      "  _, accuracy = model.evaluate_generator(test_generator, nb_samples)\n"
     ]
    },
    {
     "name": "stdout",
     "output_type": "stream",
     "text": [
      "accuracy on test set =  86.67 % \n"
     ]
    }
   ],
   "source": [
    "test_datagen = image.ImageDataGenerator()\n",
    "\n",
    "test_generator = test_datagen.flow_from_dataframe(\n",
    "    dataframe= df2,\n",
    "    directory=base_path2,\n",
    "    x_col='filename',\n",
    "    y_col='category',\n",
    "    target_size=IMAGE_SIZE,\n",
    "    color_mode=\"rgb\",\n",
    "    class_mode=\"categorical\",\n",
    "    batch_size=1,\n",
    "    shuffle=False \n",
    ")\n",
    "filenames = test_generator.filenames\n",
    "nb_samples = len(filenames)\n",
    "\n",
    "_, accuracy = model.evaluate_generator(test_generator, nb_samples)\n",
    "\n",
    "print('accuracy on test set = ',  round((accuracy * 100),2 ), '% ')"
   ]
  },
  {
   "cell_type": "code",
   "execution_count": 14,
   "id": "d5f1fd55-bd37-4286-9ae9-6203b1a865be",
   "metadata": {},
   "outputs": [],
   "source": [
    "# Saving the model\n",
    "tf.keras.models.save_model(model,'my_model.hdf5')"
   ]
  },
  {
   "cell_type": "markdown",
   "id": "e2b5da5c-fa1c-4403-8fbe-78a2e647cd0f",
   "metadata": {},
   "source": [
    "By feeding new data"
   ]
  },
  {
   "cell_type": "markdown",
   "id": "5e706c00-c21b-4bb0-b872-e7f47ac2b35b",
   "metadata": {},
   "source": [
    "## **Task 4 (HD Task) Build a workable prototype**\n",
    "\n",
    "Build a web/mobile app that people from your city council can use to determine what to recycle. Test your prototype with the target users and report their feedback.\n",
    "\n",
    "Upload your code into a GitHub repository.\n",
    "\n",
    "Create a short video presentation about your product."
   ]
  },
  {
   "cell_type": "markdown",
   "id": "b2f3003b-dd72-4f77-9f9a-673911d429a8",
   "metadata": {},
   "source": [
    "### Creating a Streamlit Web App"
   ]
  },
  {
   "cell_type": "code",
   "execution_count": null,
   "id": "a5a7ab1f-17b5-41d1-867f-24cf69dfa91c",
   "metadata": {},
   "outputs": [],
   "source": [
    "from flask import Flask, request, jsonify\n",
    "import numpy as np\n",
    "import pickle\n",
    "model = pickle.load(open('model.pkl', 'rb'))\n",
    "app = Flask(Garbage)\n",
    "\n",
    "@app.route('/')\n",
    "def index():\n",
    "    return \"hello world\"\n",
    "@app.route('/predict', methods = ['POST'])\n",
    "def predict():\n",
    "    c"
   ]
  },
  {
   "cell_type": "code",
   "execution_count": null,
   "id": "c4fe37fa-8fd1-42dc-b604-b011ba57178b",
   "metadata": {},
   "outputs": [],
   "source": []
  },
  {
   "cell_type": "markdown",
   "id": "5f9773d2-2631-4962-bb7c-34f4a63d6a42",
   "metadata": {},
   "source": [
    "## References\n",
    "\n",
    "[1] Wang, D. (2021, July 23). How AI Can Help Us Recycle. Medium. https://towardsdatascience.com/how-ai-can-help-us-recycle-c2f82d0d50de#83d7\n",
    "\n",
    "[2] Waste and Recycling in North America. (2019, November 19). GPetrium. https://www.gpetrium.com/waste-and-recycling-in-north-america/#:~:text=The%20United%20States\n",
    "\n",
    "[3] CCHANG. (2018). <i>Garbage Classification</i> [Data set]. Kaggle. https://doi.org/10.34740/KAGGLE/DS/81794\n",
    "\n",
    "[4]D. Thompson, \"The Pros And Cons Of Convolution Neural Networks\", iTech Post, 2022. [Online]. Available: https://www.itechpost.com/articles/109452/20220307/the-pros-and-cons-of-convolution-neural-networks.htm. [Accessed: 25- Apr- 2022]."
   ]
  },
  {
   "cell_type": "code",
   "execution_count": null,
   "id": "8271da73-2d89-43bb-8789-a77c8bf271b1",
   "metadata": {},
   "outputs": [],
   "source": []
  }
 ],
 "metadata": {
  "kernelspec": {
   "display_name": "Python 3 (ipykernel)",
   "language": "python",
   "name": "python3"
  },
  "language_info": {
   "codemirror_mode": {
    "name": "ipython",
    "version": 3
   },
   "file_extension": ".py",
   "mimetype": "text/x-python",
   "name": "python",
   "nbconvert_exporter": "python",
   "pygments_lexer": "ipython3",
   "version": "3.9.7"
  }
 },
 "nbformat": 4,
 "nbformat_minor": 5
}
